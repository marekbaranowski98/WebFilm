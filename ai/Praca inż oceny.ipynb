{
 "cells": [
  {
   "cell_type": "markdown",
   "id": "87bdb8cc-3178-40f2-a8f1-aac0dca4ead4",
   "metadata": {
    "tags": []
   },
   "source": [
    "# Przygotowanie danych"
   ]
  },
  {
   "cell_type": "markdown",
   "id": "2c4b4137-0585-4ed2-a070-7855a273fcf0",
   "metadata": {
    "tags": []
   },
   "source": [
    "## Importy"
   ]
  },
  {
   "cell_type": "code",
   "execution_count": 1,
   "id": "bd4a36c3-84b4-4adc-8fcd-3027bd797837",
   "metadata": {},
   "outputs": [],
   "source": [
    "import os\n",
    "import re\n",
    "import ast\n",
    "import requests\n",
    "import datetime\n",
    "\n",
    "import pandas as pd\n",
    "import numpy as np\n",
    "\n",
    "from tqdm import tqdm\n",
    "from uuid import uuid4\n",
    "from sqlalchemy import create_engine"
   ]
  },
  {
   "cell_type": "markdown",
   "id": "45797c82-b840-4199-8b54-eeba647d2aed",
   "metadata": {
    "tags": []
   },
   "source": [
    "## Stałe"
   ]
  },
  {
   "cell_type": "code",
   "execution_count": 2,
   "id": "336527e4-a075-48bc-a5dd-06fc05e7a55e",
   "metadata": {},
   "outputs": [],
   "source": [
    "MKDIR_DATA = 'data/'\n",
    "\n",
    "MOVIES_CSV =  os.path.join(MKDIR_DATA,'movies_metadata.csv')\n",
    "RATINGS_CSV = os.path.join(MKDIR_DATA,'ratings.csv')\n",
    "LINKS_CSV = os.path.join(MKDIR_DATA, 'links.csv')\n",
    "\n",
    "DB_HOST = '127.0.0.1'\n",
    "DB_NAME = 'webfilm'\n",
    "DB_USER = 'webfilm'\n",
    "DB_PASS = 'nhy6&UJM'"
   ]
  },
  {
   "cell_type": "markdown",
   "id": "8d5752b9-d376-4598-813a-5edccffe443e",
   "metadata": {},
   "source": [
    "## Przygotowanie polączenia z bazą"
   ]
  },
  {
   "cell_type": "code",
   "execution_count": 3,
   "id": "8b828018-da3a-416d-b1ab-1abf3b296d17",
   "metadata": {},
   "outputs": [],
   "source": [
    "engine = create_engine(f'mysql+pymysql://{DB_USER}:{DB_PASS}@{DB_HOST}/{DB_NAME}')"
   ]
  },
  {
   "cell_type": "markdown",
   "id": "a51fcb81-5ebe-4c66-858f-64685e44ff1d",
   "metadata": {
    "tags": []
   },
   "source": [
    "## Utworzenie folderów"
   ]
  },
  {
   "cell_type": "code",
   "execution_count": 4,
   "id": "5d7178b4-af11-4178-befb-89a94860268a",
   "metadata": {},
   "outputs": [],
   "source": [
    "list_folders = [\n",
    "    MKDIR_DATA,\n",
    "]\n",
    "for x in list_folders:\n",
    "    if not os.path.exists(x):\n",
    "        os.makedirs(x)"
   ]
  },
  {
   "cell_type": "markdown",
   "id": "49228f60-07ac-424c-b6b9-9e4578662fed",
   "metadata": {
    "tags": []
   },
   "source": [
    "## Ustawienia środowiska"
   ]
  },
  {
   "cell_type": "code",
   "execution_count": 5,
   "id": "a5282981-e848-4c25-ab01-4ae8834eb34c",
   "metadata": {},
   "outputs": [],
   "source": [
    "PANDAS_MAX_ROW = 10\n",
    "\n",
    "pd.set_option('display.max_columns', None)\n",
    "pd.set_option('display.max_rows', PANDAS_MAX_ROW)"
   ]
  },
  {
   "cell_type": "markdown",
   "id": "11a22647-2b9d-4f87-9952-0db2a569a0c4",
   "metadata": {
    "tags": []
   },
   "source": [
    "## Pobranie danych"
   ]
  },
  {
   "cell_type": "code",
   "execution_count": 6,
   "id": "09ad3ea4-54ea-47d1-baff-3474f56d88bb",
   "metadata": {},
   "outputs": [
    {
     "name": "stdout",
     "output_type": "stream",
     "text": [
      "Downloading the-movies-dataset.zip to data\n",
      "100%|████████████████████████████████████████| 228M/228M [00:07<00:00, 27.7MB/s]\n",
      "100%|████████████████████████████████████████| 228M/228M [00:07<00:00, 29.9MB/s]\n"
     ]
    },
    {
     "name": "stderr",
     "output_type": "stream",
     "text": [
      "45573it [00:00, 152518.62it/s]\n"
     ]
    }
   ],
   "source": [
    "!kaggle datasets download -p $MKDIR_DATA --unzip rounakbanik/the-movies-dataset\n",
    "\n",
    "file = open(MOVIES_CSV, 'r')\n",
    "wiersz = 1\n",
    "usunac_nowy_wiersz = [19763, 29572, 35671]\n",
    "tekst = ''\n",
    "for line in tqdm(file):\n",
    "    if wiersz in usunac_nowy_wiersz:\n",
    "        line = line.strip()\n",
    "\n",
    "    wiersz = wiersz + 1\n",
    "    tekst += line\n",
    "file.close()\n",
    "\n",
    "file = open(MOVIES_CSV, 'w')\n",
    "file.write(tekst)\n",
    "file.close()"
   ]
  },
  {
   "cell_type": "markdown",
   "id": "b681adef-791a-4223-89be-f1046f05b861",
   "metadata": {},
   "source": [
    "## Wczytanie danych\n",
    "Wczytanie i podzielenie danych"
   ]
  },
  {
   "cell_type": "markdown",
   "id": "d2826485-1e11-4827-b41a-29086027b84d",
   "metadata": {},
   "source": [
    "### Movies"
   ]
  },
  {
   "cell_type": "code",
   "execution_count": 7,
   "id": "191517cf-9c2c-439d-ad4e-f186cb45446d",
   "metadata": {},
   "outputs": [
    {
     "data": {
      "text/html": [
       "<div>\n",
       "<style scoped>\n",
       "    .dataframe tbody tr th:only-of-type {\n",
       "        vertical-align: middle;\n",
       "    }\n",
       "\n",
       "    .dataframe tbody tr th {\n",
       "        vertical-align: top;\n",
       "    }\n",
       "\n",
       "    .dataframe thead th {\n",
       "        text-align: right;\n",
       "    }\n",
       "</style>\n",
       "<table border=\"1\" class=\"dataframe\">\n",
       "  <thead>\n",
       "    <tr style=\"text-align: right;\">\n",
       "      <th></th>\n",
       "      <th>id</th>\n",
       "      <th>title</th>\n",
       "    </tr>\n",
       "  </thead>\n",
       "  <tbody>\n",
       "    <tr>\n",
       "      <th>0</th>\n",
       "      <td>55245</td>\n",
       "      <td>!Women Art Revolution</td>\n",
       "    </tr>\n",
       "    <tr>\n",
       "      <th>1</th>\n",
       "      <td>41371</td>\n",
       "      <td>#1 Cheerleader Camp</td>\n",
       "    </tr>\n",
       "    <tr>\n",
       "      <th>2</th>\n",
       "      <td>301325</td>\n",
       "      <td>#Horror</td>\n",
       "    </tr>\n",
       "    <tr>\n",
       "      <th>3</th>\n",
       "      <td>267752</td>\n",
       "      <td>#chicagoGirl</td>\n",
       "    </tr>\n",
       "    <tr>\n",
       "      <th>4</th>\n",
       "      <td>143747</td>\n",
       "      <td>$1,000 on the Black</td>\n",
       "    </tr>\n",
       "    <tr>\n",
       "      <th>...</th>\n",
       "      <td>...</td>\n",
       "      <td>...</td>\n",
       "    </tr>\n",
       "    <tr>\n",
       "      <th>45428</th>\n",
       "      <td>388182</td>\n",
       "      <td>هیچ کجا هیچ کس</td>\n",
       "    </tr>\n",
       "    <tr>\n",
       "      <th>45429</th>\n",
       "      <td>120249</td>\n",
       "      <td>‘Rameau’s Nephew’ by Diderot (Thanx to Dennis ...</td>\n",
       "    </tr>\n",
       "    <tr>\n",
       "      <th>45430</th>\n",
       "      <td>14670</td>\n",
       "      <td>’Round Midnight</td>\n",
       "    </tr>\n",
       "    <tr>\n",
       "      <th>45431</th>\n",
       "      <td>109380</td>\n",
       "      <td>…And the Fifth Horseman Is Fear</td>\n",
       "    </tr>\n",
       "    <tr>\n",
       "      <th>45432</th>\n",
       "      <td>252874</td>\n",
       "      <td>ファンタスティポ</td>\n",
       "    </tr>\n",
       "  </tbody>\n",
       "</table>\n",
       "<p>45433 rows × 2 columns</p>\n",
       "</div>"
      ],
      "text/plain": [
       "           id                                              title\n",
       "0       55245                              !Women Art Revolution\n",
       "1       41371                                #1 Cheerleader Camp\n",
       "2      301325                                            #Horror\n",
       "3      267752                                       #chicagoGirl\n",
       "4      143747                                $1,000 on the Black\n",
       "...       ...                                                ...\n",
       "45428  388182                                     هیچ کجا هیچ کس\n",
       "45429  120249  ‘Rameau’s Nephew’ by Diderot (Thanx to Dennis ...\n",
       "45430   14670                                    ’Round Midnight\n",
       "45431  109380                    …And the Fifth Horseman Is Fear\n",
       "45432  252874                                           ファンタスティポ\n",
       "\n",
       "[45433 rows x 2 columns]"
      ]
     },
     "execution_count": 7,
     "metadata": {},
     "output_type": "execute_result"
    }
   ],
   "source": [
    "movies = pd.read_sql('SELECT id, title FROM movies_movie', engine)\n",
    "movies"
   ]
  },
  {
   "cell_type": "markdown",
   "id": "6178a9ec-04f7-4e94-a2da-9307b1f29c36",
   "metadata": {},
   "source": [
    "### Links"
   ]
  },
  {
   "cell_type": "code",
   "execution_count": 8,
   "id": "60876599-5191-4ebd-879c-079ec6d50a3d",
   "metadata": {},
   "outputs": [
    {
     "data": {
      "text/html": [
       "<div>\n",
       "<style scoped>\n",
       "    .dataframe tbody tr th:only-of-type {\n",
       "        vertical-align: middle;\n",
       "    }\n",
       "\n",
       "    .dataframe tbody tr th {\n",
       "        vertical-align: top;\n",
       "    }\n",
       "\n",
       "    .dataframe thead th {\n",
       "        text-align: right;\n",
       "    }\n",
       "</style>\n",
       "<table border=\"1\" class=\"dataframe\">\n",
       "  <thead>\n",
       "    <tr style=\"text-align: right;\">\n",
       "      <th></th>\n",
       "      <th>movieId</th>\n",
       "      <th>imdbId</th>\n",
       "      <th>tmdbId</th>\n",
       "    </tr>\n",
       "  </thead>\n",
       "  <tbody>\n",
       "    <tr>\n",
       "      <th>0</th>\n",
       "      <td>1</td>\n",
       "      <td>114709</td>\n",
       "      <td>862.0</td>\n",
       "    </tr>\n",
       "    <tr>\n",
       "      <th>1</th>\n",
       "      <td>2</td>\n",
       "      <td>113497</td>\n",
       "      <td>8844.0</td>\n",
       "    </tr>\n",
       "    <tr>\n",
       "      <th>2</th>\n",
       "      <td>3</td>\n",
       "      <td>113228</td>\n",
       "      <td>15602.0</td>\n",
       "    </tr>\n",
       "    <tr>\n",
       "      <th>3</th>\n",
       "      <td>4</td>\n",
       "      <td>114885</td>\n",
       "      <td>31357.0</td>\n",
       "    </tr>\n",
       "    <tr>\n",
       "      <th>4</th>\n",
       "      <td>5</td>\n",
       "      <td>113041</td>\n",
       "      <td>11862.0</td>\n",
       "    </tr>\n",
       "  </tbody>\n",
       "</table>\n",
       "</div>"
      ],
      "text/plain": [
       "   movieId  imdbId   tmdbId\n",
       "0        1  114709    862.0\n",
       "1        2  113497   8844.0\n",
       "2        3  113228  15602.0\n",
       "3        4  114885  31357.0\n",
       "4        5  113041  11862.0"
      ]
     },
     "execution_count": 8,
     "metadata": {},
     "output_type": "execute_result"
    }
   ],
   "source": [
    "links = pd.read_csv(LINKS_CSV, keep_default_na=False, low_memory=True)\n",
    "links['tmdbId'] = pd.to_numeric(links.tmdbId, downcast='integer')\n",
    "links.head()"
   ]
  },
  {
   "cell_type": "markdown",
   "id": "5caf576b-65e6-4905-8c56-b2bbf722b2c4",
   "metadata": {
    "tags": []
   },
   "source": [
    "### Ratings"
   ]
  },
  {
   "cell_type": "code",
   "execution_count": 9,
   "id": "546c2f8d-44f0-471f-992d-bc937cea60aa",
   "metadata": {},
   "outputs": [],
   "source": [
    "def process_rating_chunk(ratings):\n",
    "    ratings = ratings.merge(links, left_on='movieId', right_on='movieId')\n",
    "    ratings = ratings.rename(columns={\n",
    "        'userId': 'user_id',\n",
    "        'tmdbId': 'movie_id',\n",
    "        'timestamp': 'date',\n",
    "    })\n",
    "    ratings = ratings.sort_values(['date'])\n",
    "    ratings['date'] = pd.to_datetime(ratings['date'], unit='s')\n",
    "    \n",
    "    ratings = ratings.drop('movieId', axis=1)\n",
    "    ratings = ratings.drop('imdbId', axis=1)\n",
    "    ratings['rating'] = ratings.rating.apply(lambda x: x * 2)\n",
    "\n",
    "    return ratings"
   ]
  },
  {
   "cell_type": "code",
   "execution_count": 10,
   "id": "b6c64fe2-de4d-41e9-b8db-9881f35cf085",
   "metadata": {},
   "outputs": [
    {
     "data": {
      "text/html": [
       "<div>\n",
       "<style scoped>\n",
       "    .dataframe tbody tr th:only-of-type {\n",
       "        vertical-align: middle;\n",
       "    }\n",
       "\n",
       "    .dataframe tbody tr th {\n",
       "        vertical-align: top;\n",
       "    }\n",
       "\n",
       "    .dataframe thead th {\n",
       "        text-align: right;\n",
       "    }\n",
       "</style>\n",
       "<table border=\"1\" class=\"dataframe\">\n",
       "  <thead>\n",
       "    <tr style=\"text-align: right;\">\n",
       "      <th></th>\n",
       "      <th>user_id</th>\n",
       "      <th>rating</th>\n",
       "      <th>date</th>\n",
       "      <th>movie_id</th>\n",
       "    </tr>\n",
       "  </thead>\n",
       "  <tbody>\n",
       "    <tr>\n",
       "      <th>20925665</th>\n",
       "      <td>38150</td>\n",
       "      <td>8.0</td>\n",
       "      <td>1995-01-09 11:46:44</td>\n",
       "      <td>1600.0</td>\n",
       "    </tr>\n",
       "    <tr>\n",
       "      <th>12937605</th>\n",
       "      <td>44717</td>\n",
       "      <td>6.0</td>\n",
       "      <td>1995-01-09 11:46:49</td>\n",
       "      <td>8012.0</td>\n",
       "    </tr>\n",
       "    <tr>\n",
       "      <th>4842674</th>\n",
       "      <td>44717</td>\n",
       "      <td>6.0</td>\n",
       "      <td>1995-01-09 11:46:49</td>\n",
       "      <td>623.0</td>\n",
       "    </tr>\n",
       "    <tr>\n",
       "      <th>3870682</th>\n",
       "      <td>44717</td>\n",
       "      <td>10.0</td>\n",
       "      <td>1995-01-09 11:46:49</td>\n",
       "      <td>807.0</td>\n",
       "    </tr>\n",
       "    <tr>\n",
       "      <th>6295319</th>\n",
       "      <td>187396</td>\n",
       "      <td>10.0</td>\n",
       "      <td>1996-01-29 00:00:00</td>\n",
       "      <td>9598.0</td>\n",
       "    </tr>\n",
       "    <tr>\n",
       "      <th>...</th>\n",
       "      <td>...</td>\n",
       "      <td>...</td>\n",
       "      <td>...</td>\n",
       "      <td>...</td>\n",
       "    </tr>\n",
       "    <tr>\n",
       "      <th>11605097</th>\n",
       "      <td>85434</td>\n",
       "      <td>4.0</td>\n",
       "      <td>2017-08-04 06:38:59</td>\n",
       "      <td>13342.0</td>\n",
       "    </tr>\n",
       "    <tr>\n",
       "      <th>23907954</th>\n",
       "      <td>85434</td>\n",
       "      <td>6.0</td>\n",
       "      <td>2017-08-04 06:39:06</td>\n",
       "      <td>10140.0</td>\n",
       "    </tr>\n",
       "    <tr>\n",
       "      <th>19982064</th>\n",
       "      <td>85434</td>\n",
       "      <td>8.0</td>\n",
       "      <td>2017-08-04 06:41:23</td>\n",
       "      <td>19186.0</td>\n",
       "    </tr>\n",
       "    <tr>\n",
       "      <th>20803205</th>\n",
       "      <td>199634</td>\n",
       "      <td>6.0</td>\n",
       "      <td>2017-08-04 06:53:43</td>\n",
       "      <td>1724.0</td>\n",
       "    </tr>\n",
       "    <tr>\n",
       "      <th>25912983</th>\n",
       "      <td>179412</td>\n",
       "      <td>7.0</td>\n",
       "      <td>2017-08-04 06:57:50</td>\n",
       "      <td>335791.0</td>\n",
       "    </tr>\n",
       "  </tbody>\n",
       "</table>\n",
       "<p>25981457 rows × 4 columns</p>\n",
       "</div>"
      ],
      "text/plain": [
       "          user_id  rating                date  movie_id\n",
       "20925665    38150     8.0 1995-01-09 11:46:44    1600.0\n",
       "12937605    44717     6.0 1995-01-09 11:46:49    8012.0\n",
       "4842674     44717     6.0 1995-01-09 11:46:49     623.0\n",
       "3870682     44717    10.0 1995-01-09 11:46:49     807.0\n",
       "6295319    187396    10.0 1996-01-29 00:00:00    9598.0\n",
       "...           ...     ...                 ...       ...\n",
       "11605097    85434     4.0 2017-08-04 06:38:59   13342.0\n",
       "23907954    85434     6.0 2017-08-04 06:39:06   10140.0\n",
       "19982064    85434     8.0 2017-08-04 06:41:23   19186.0\n",
       "20803205   199634     6.0 2017-08-04 06:53:43    1724.0\n",
       "25912983   179412     7.0 2017-08-04 06:57:50  335791.0\n",
       "\n",
       "[25981457 rows x 4 columns]"
      ]
     },
     "execution_count": 10,
     "metadata": {},
     "output_type": "execute_result"
    }
   ],
   "source": [
    "ratings = pd.read_csv(RATINGS_CSV, keep_default_na=False, low_memory=True)\n",
    "\n",
    "ratings = process_rating_chunk(ratings)\n",
    "ratings = ratings[ratings['movie_id'].isin(movies['id'])]\n",
    "ratings = ratings.drop_duplicates(subset=['user_id', 'movie_id', ], keep='last')\n",
    "ratings"
   ]
  },
  {
   "cell_type": "code",
   "execution_count": 11,
   "id": "0b52f03d-d2de-43f0-ab01-dc12cf841501",
   "metadata": {},
   "outputs": [
    {
     "data": {
      "text/html": [
       "<div>\n",
       "<style scoped>\n",
       "    .dataframe tbody tr th:only-of-type {\n",
       "        vertical-align: middle;\n",
       "    }\n",
       "\n",
       "    .dataframe tbody tr th {\n",
       "        vertical-align: top;\n",
       "    }\n",
       "\n",
       "    .dataframe thead th {\n",
       "        text-align: right;\n",
       "    }\n",
       "</style>\n",
       "<table border=\"1\" class=\"dataframe\">\n",
       "  <thead>\n",
       "    <tr style=\"text-align: right;\">\n",
       "      <th></th>\n",
       "      <th>id</th>\n",
       "      <th>password</th>\n",
       "      <th>name</th>\n",
       "      <th>surname</th>\n",
       "      <th>gender</th>\n",
       "      <th>active_status</th>\n",
       "      <th>role_id</th>\n",
       "    </tr>\n",
       "  </thead>\n",
       "  <tbody>\n",
       "    <tr>\n",
       "      <th>217591</th>\n",
       "      <td>1</td>\n",
       "      <td></td>\n",
       "      <td></td>\n",
       "      <td></td>\n",
       "      <td>0</td>\n",
       "      <td>2</td>\n",
       "      <td>1</td>\n",
       "    </tr>\n",
       "    <tr>\n",
       "      <th>998951</th>\n",
       "      <td>2</td>\n",
       "      <td></td>\n",
       "      <td></td>\n",
       "      <td></td>\n",
       "      <td>0</td>\n",
       "      <td>2</td>\n",
       "      <td>1</td>\n",
       "    </tr>\n",
       "    <tr>\n",
       "      <th>1500966</th>\n",
       "      <td>3</td>\n",
       "      <td></td>\n",
       "      <td></td>\n",
       "      <td></td>\n",
       "      <td>0</td>\n",
       "      <td>2</td>\n",
       "      <td>1</td>\n",
       "    </tr>\n",
       "    <tr>\n",
       "      <th>2259410</th>\n",
       "      <td>4</td>\n",
       "      <td></td>\n",
       "      <td></td>\n",
       "      <td></td>\n",
       "      <td>0</td>\n",
       "      <td>2</td>\n",
       "      <td>1</td>\n",
       "    </tr>\n",
       "    <tr>\n",
       "      <th>2714139</th>\n",
       "      <td>5</td>\n",
       "      <td></td>\n",
       "      <td></td>\n",
       "      <td></td>\n",
       "      <td>0</td>\n",
       "      <td>2</td>\n",
       "      <td>1</td>\n",
       "    </tr>\n",
       "  </tbody>\n",
       "</table>\n",
       "</div>"
      ],
      "text/plain": [
       "         id password name surname  gender  active_status  role_id\n",
       "217591    1                             0              2        1\n",
       "998951    2                             0              2        1\n",
       "1500966   3                             0              2        1\n",
       "2259410   4                             0              2        1\n",
       "2714139   5                             0              2        1"
      ]
     },
     "execution_count": 11,
     "metadata": {},
     "output_type": "execute_result"
    }
   ],
   "source": [
    "users = pd.DataFrame({\n",
    "    'id': ratings['user_id'],\n",
    "    'password': '',\n",
    "    'name': '',\n",
    "    'surname': '',\n",
    "    'gender': 0,\n",
    "    'active_status': 2,\n",
    "    'role_id': 1,\n",
    "}).drop_duplicates('id').sort_values('id')\n",
    "users.head()"
   ]
  },
  {
   "cell_type": "code",
   "execution_count": 12,
   "id": "53d6ccbc-ac39-484a-9783-7357a3ea2a05",
   "metadata": {},
   "outputs": [],
   "source": [
    "ratings.to_csv('ratings.csv', index=False)"
   ]
  },
  {
   "cell_type": "code",
   "execution_count": 13,
   "id": "3e73ca8e-99f4-421f-8d53-ea5f12addf87",
   "metadata": {},
   "outputs": [],
   "source": [
    "list_tabels = [\n",
    "    { 'nazwa_tabeli': 'users_user', 'data': users, },\n",
    "    { 'nazwa_tabeli': 'evaluations_rating', 'data': ratings, },\n",
    "]"
   ]
  },
  {
   "cell_type": "code",
   "execution_count": 14,
   "id": "e416fc04-a8cc-4448-a3b5-ad1e1cc58f09",
   "metadata": {},
   "outputs": [
    {
     "name": "stderr",
     "output_type": "stream",
     "text": [
      "100%|███████████████████████████████████████| 2/2 [10:56:45<00:00, 19702.78s/it]\n"
     ]
    }
   ],
   "source": [
    "for x in tqdm(list_tabels):\n",
    "    x['data'].to_sql(f'{x[\"nazwa_tabeli\"]}', con=engine, if_exists='append', index=False, method='multi', chunksize=1000)"
   ]
  },
  {
   "cell_type": "code",
   "execution_count": null,
   "id": "6cfdfa45-2b9f-4faf-a3c9-4e1f48cd3c63",
   "metadata": {},
   "outputs": [],
   "source": []
  }
 ],
 "metadata": {
  "kernelspec": {
   "display_name": "uczenie_maszynowe3.9.6",
   "language": "python",
   "name": "uczenie_maszynowe3.9.6"
  },
  "language_info": {
   "codemirror_mode": {
    "name": "ipython",
    "version": 3
   },
   "file_extension": ".py",
   "mimetype": "text/x-python",
   "name": "python",
   "nbconvert_exporter": "python",
   "pygments_lexer": "ipython3",
   "version": "3.9.6+"
  }
 },
 "nbformat": 4,
 "nbformat_minor": 5
}
